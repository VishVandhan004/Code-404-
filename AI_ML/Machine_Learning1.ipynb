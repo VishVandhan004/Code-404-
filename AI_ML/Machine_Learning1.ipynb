{
 "cells": [
  {
   "cell_type": "code",
   "execution_count": 1,
   "id": "081a41a1",
   "metadata": {},
   "outputs": [
    {
     "name": "stdout",
     "output_type": "stream",
     "text": [
      "hello\n"
     ]
    }
   ],
   "source": [
    "print('hello')"
   ]
  },
  {
   "cell_type": "code",
   "execution_count": 2,
   "id": "1f1f52cf",
   "metadata": {},
   "outputs": [
    {
     "name": "stdout",
     "output_type": "stream",
     "text": [
      "5\n"
     ]
    }
   ],
   "source": [
    "print(2+3)"
   ]
  },
  {
   "cell_type": "code",
   "execution_count": 7,
   "id": "b10fd64a",
   "metadata": {},
   "outputs": [
    {
     "name": "stdout",
     "output_type": "stream",
     "text": [
      "0\n",
      "1\n",
      "2\n",
      "3\n"
     ]
    }
   ],
   "source": [
    "import numpy as np\n",
    "a = np.array(42)\n",
    "b = np.array([1,2,3,4,5])\n",
    "c = np.array([[1,2,3],[4,5,6]])\n",
    "d = np.array([[[1,2,3],[4,5,6]],[[7,8,9],[10,11,12]]])\n",
    "print(a.ndim)\n",
    "print(b.ndim)\n",
    "print(c.ndim)\n",
    "print(d.ndim)"
   ]
  },
  {
   "cell_type": "code",
   "execution_count": 14,
   "id": "ee63ea83",
   "metadata": {},
   "outputs": [
    {
     "name": "stdout",
     "output_type": "stream",
     "text": [
      "(4,)\n",
      "(2, 3)\n",
      "(12,)\n",
      "[[ 1  2  3]\n",
      " [ 4  5  6]\n",
      " [ 7  8  9]\n",
      " [10 11 12]]\n",
      "[[[ 1  2]\n",
      "  [ 3  4]\n",
      "  [ 5  6]]\n",
      "\n",
      " [[ 7  8]\n",
      "  [ 9 10]\n",
      "  [11 12]]]\n",
      "[1 2 3 4 5 6]\n"
     ]
    }
   ],
   "source": [
    "import numpy as np\n",
    "a=np.array([1,2,3,4])\n",
    "print(a.shape)   #Shape of the Array 'a'\n",
    "b = np.array([[1,2,3],[4,5,6]])\n",
    "print(b.shape)  # Shape of the Array 'b'\n",
    "c = np.array([1,2,3,4,5,6,7,8,9,10,11,12])\n",
    "print(c.shape)  #Shape of the Array 'c'\n",
    "new_c = c.reshape(4,3) #reshaping into 4 arrays which has 3 elements in it\n",
    "print(new_c)\n",
    "new2_c = c.reshape(2,3,2) # For a 3-D array\n",
    "print(new2_c)\n",
    "f_arr=b.reshape(-1)  # For flattening a multi-dimensional array\n",
    "print(f_arr)"
   ]
  },
  {
   "cell_type": "code",
   "execution_count": 30,
   "id": "b77e0d14",
   "metadata": {},
   "outputs": [
    {
     "name": "stdout",
     "output_type": "stream",
     "text": [
      "3\n",
      "4\n",
      "5\n",
      "6\n",
      "7\n",
      "8\n",
      "9\n",
      "[4 5 6]\n",
      "[5 6 7 8 9]\n",
      "[3 4 5 6 7]\n",
      "[4 6]\n",
      "[[ 1  2  3  4  5]\n",
      " [ 6  7  8  9 10]]\n",
      "10\n",
      "4\n",
      "[1 2 3 4 5]\n",
      "[ 6  7  8  9 10]\n",
      "1\n",
      "2\n",
      "3\n",
      "4\n",
      "5\n",
      "6\n",
      "7\n",
      "8\n",
      "9\n",
      "10\n",
      "[7 8 9]\n",
      "[1 2 3]\n",
      "(array([2, 7], dtype=int64),)\n",
      "(array([0, 1, 3, 4], dtype=int64),)\n",
      "[1 1 2 4 4 6 7 9]\n",
      "['femme' 'fille' 'garcon']\n"
     ]
    }
   ],
   "source": [
    "import numpy as np\n",
    "a = np.array([3,4,5,6,7,8,9])\n",
    "a[0]    # Accessing the elements in the list..\n",
    "a[0] + a[2]\n",
    "for i in a:\n",
    "    print(i) #Iterating through the 1-D Array\n",
    "print(a[1:4]) #last index(3) won't be considered for slicing\n",
    "print(a[2:])\n",
    "print(a[:5])\n",
    "print(a[1:5:2]) #prints from 1st index to 5th index but takes 2 gaps.\n",
    "b = np.array([[1,2,3,4,5],[6,7,8,9,10]])\n",
    "print(b)\n",
    "print(b[1,4]) # accessing 5th element from 2nd row..\n",
    "print(b[0,3]) # accessing 4th element from 1st row..\n",
    "for j in b:\n",
    "    print(j) #Iterating through the 2-D Array\n",
    "for j in b:\n",
    "    for k in j:  #Iterating and getting the elements in the 2-D Array\n",
    "        print(k)\n",
    "print(b[1,1:4]) #prints the elements from 1st to 4th index in the 2nd column.\n",
    "print(b[0,0:3])\n",
    "d = np.array([2,4,1,6,4,7,9,1])\n",
    "x = np.where(d == 1)\n",
    "print(x) # shows where is 1 present in the whole array\n",
    "ans = np.where(d%2==0) # which index has even numbers and will return the indexes\n",
    "print(ans)\n",
    "print(np.sort(d)) # sorts the elements in the array.\n",
    "g = np.array(['fille','femme','garcon'])\n",
    "print(np.sort(g))"
   ]
  },
  {
   "cell_type": "code",
   "execution_count": 33,
   "id": "7340636f",
   "metadata": {},
   "outputs": [
    {
     "name": "stdout",
     "output_type": "stream",
     "text": [
      "Requirement already satisfied: pandas in c:\\users\\lenovo\\appdata\\local\\programs\\python\\python311\\lib\\site-packages (2.0.2)\n",
      "Requirement already satisfied: python-dateutil>=2.8.2 in c:\\users\\lenovo\\appdata\\local\\programs\\python\\python311\\lib\\site-packages (from pandas) (2.8.2)\n",
      "Requirement already satisfied: pytz>=2020.1 in c:\\users\\lenovo\\appdata\\local\\programs\\python\\python311\\lib\\site-packages (from pandas) (2023.3)\n",
      "Requirement already satisfied: tzdata>=2022.1 in c:\\users\\lenovo\\appdata\\local\\programs\\python\\python311\\lib\\site-packages (from pandas) (2023.3)\n",
      "Requirement already satisfied: numpy>=1.21.0 in c:\\users\\lenovo\\appdata\\local\\programs\\python\\python311\\lib\\site-packages (from pandas) (1.24.2)\n",
      "Requirement already satisfied: six>=1.5 in c:\\users\\lenovo\\appdata\\local\\programs\\python\\python311\\lib\\site-packages (from python-dateutil>=2.8.2->pandas) (1.16.0)\n"
     ]
    },
    {
     "name": "stderr",
     "output_type": "stream",
     "text": [
      "\n",
      "[notice] A new release of pip is available: 23.0.1 -> 23.1.2\n",
      "[notice] To update, run: python.exe -m pip install --upgrade pip\n"
     ]
    }
   ],
   "source": [
    "!pip install pandas"
   ]
  },
  {
   "cell_type": "code",
   "execution_count": 38,
   "id": "f309fed8",
   "metadata": {},
   "outputs": [
    {
     "name": "stdout",
     "output_type": "stream",
     "text": [
      "0     3\n",
      "1     6\n",
      "2     8\n",
      "3    10\n",
      "4    30\n",
      "5    22\n",
      "dtype: int64\n",
      "one      10\n",
      "two      20\n",
      "three    30\n",
      "dtype: int64\n"
     ]
    }
   ],
   "source": [
    "import pandas as pd\n",
    "l1 = [3,6,8,10,30,22]\n",
    "s1 = pd.Series(l1)\n",
    "print(s1)\n",
    "d1 = {\"one\":10,\"two\":20,\"three\":30}\n",
    "s2 = pd.Series(d1)\n",
    "print(s2)\n",
    "sample_data = {\n",
    "    \"weekdays\":['Monday','Tuesday','Friday'],\n",
    "    \"test_score\":[10,30,50]\n",
    "}\n",
    "df = pd.DataFrame(sample_d)"
   ]
  },
  {
   "cell_type": "code",
   "execution_count": null,
   "id": "c6952c3d",
   "metadata": {},
   "outputs": [],
   "source": []
  }
 ],
 "metadata": {
  "kernelspec": {
   "display_name": "Python 3 (ipykernel)",
   "language": "python",
   "name": "python3"
  },
  "language_info": {
   "codemirror_mode": {
    "name": "ipython",
    "version": 3
   },
   "file_extension": ".py",
   "mimetype": "text/x-python",
   "name": "python",
   "nbconvert_exporter": "python",
   "pygments_lexer": "ipython3",
   "version": "3.11.2"
  }
 },
 "nbformat": 4,
 "nbformat_minor": 5
}
