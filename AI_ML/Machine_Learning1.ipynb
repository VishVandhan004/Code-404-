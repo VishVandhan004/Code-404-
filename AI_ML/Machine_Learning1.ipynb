{
 "cells": [
  {
   "cell_type": "code",
   "execution_count": 1,
   "id": "081a41a1",
   "metadata": {},
   "outputs": [
    {
     "name": "stdout",
     "output_type": "stream",
     "text": [
      "hello\n"
     ]
    }
   ],
   "source": [
    "print('hello')"
   ]
  },
  {
   "cell_type": "code",
   "execution_count": 2,
   "id": "1f1f52cf",
   "metadata": {},
   "outputs": [
    {
     "name": "stdout",
     "output_type": "stream",
     "text": [
      "5\n"
     ]
    }
   ],
   "source": [
    "print(2+3)"
   ]
  },
  {
   "cell_type": "code",
   "execution_count": 7,
   "id": "c8945b63",
   "metadata": {},
   "outputs": [
    {
     "name": "stdout",
     "output_type": "stream",
     "text": [
      "0\n",
      "1\n",
      "2\n",
      "3\n"
     ]
    }
   ],
   "source": [
    "import numpy as np\n",
    "a = np.array(42)\n",
    "b = np.array([1,2,3,4,5])\n",
    "c = np.array([[1,2,3],[4,5,6]])\n",
    "d = np.array([[[1,2,3],[4,5,6]],[[7,8,9],[10,11,12]]])\n",
    "print(a.ndim)\n",
    "print(b.ndim)\n",
    "print(c.ndim)\n",
    "print(d.ndim)"
   ]
  },
  {
   "cell_type": "code",
   "execution_count": 14,
   "id": "0f7f4c89",
   "metadata": {},
   "outputs": [
    {
     "name": "stdout",
     "output_type": "stream",
     "text": [
      "(4,)\n",
      "(2, 3)\n",
      "(12,)\n",
      "[[ 1  2  3]\n",
      " [ 4  5  6]\n",
      " [ 7  8  9]\n",
      " [10 11 12]]\n",
      "[[[ 1  2]\n",
      "  [ 3  4]\n",
      "  [ 5  6]]\n",
      "\n",
      " [[ 7  8]\n",
      "  [ 9 10]\n",
      "  [11 12]]]\n",
      "[1 2 3 4 5 6]\n"
     ]
    }
   ],
   "source": [
    "import numpy as np\n",
    "a=np.array([1,2,3,4])\n",
    "print(a.shape)   #Shape of the Array 'a'\n",
    "b = np.array([[1,2,3],[4,5,6]])\n",
    "print(b.shape)  # Shape of the Array 'b'\n",
    "c = np.array([1,2,3,4,5,6,7,8,9,10,11,12])\n",
    "print(c.shape)  #Shape of the Array 'c'\n",
    "new_c = c.reshape(4,3) #reshaping into 4 arrays which has 3 elements in it\n",
    "print(new_c)\n",
    "new2_c = c.reshape(2,3,2) # For a 3-D array\n",
    "print(new2_c)\n",
    "f_arr=b.reshape(-1)  # For flattening a multi-dimensional array\n",
    "print(f_arr)"
   ]
  },
  {
   "cell_type": "code",
   "execution_count": 30,
   "id": "1fc083d3",
   "metadata": {},
   "outputs": [
    {
     "name": "stdout",
     "output_type": "stream",
     "text": [
      "3\n",
      "4\n",
      "5\n",
      "6\n",
      "7\n",
      "8\n",
      "9\n",
      "[4 5 6]\n",
      "[5 6 7 8 9]\n",
      "[3 4 5 6 7]\n",
      "[4 6]\n",
      "[[ 1  2  3  4  5]\n",
      " [ 6  7  8  9 10]]\n",
      "10\n",
      "4\n",
      "[1 2 3 4 5]\n",
      "[ 6  7  8  9 10]\n",
      "1\n",
      "2\n",
      "3\n",
      "4\n",
      "5\n",
      "6\n",
      "7\n",
      "8\n",
      "9\n",
      "10\n",
      "[7 8 9]\n",
      "[1 2 3]\n",
      "(array([2, 7], dtype=int64),)\n",
      "(array([0, 1, 3, 4], dtype=int64),)\n",
      "[1 1 2 4 4 6 7 9]\n",
      "['femme' 'fille' 'garcon']\n"
     ]
    }
   ],
   "source": [
    "import numpy as np\n",
    "a = np.array([3,4,5,6,7,8,9])\n",
    "a[0]    # Accessing the elements in the list..\n",
    "a[0] + a[2]\n",
    "for i in a:\n",
    "    print(i) #Iterating through the 1-D Array\n",
    "print(a[1:4]) #last index(3) won't be considered for slicing\n",
    "print(a[2:])\n",
    "print(a[:5])\n",
    "print(a[1:5:2]) #prints from 1st index to 5th index but takes 2 gaps.\n",
    "b = np.array([[1,2,3,4,5],[6,7,8,9,10]])\n",
    "print(b)\n",
    "print(b[1,4]) # accessing 5th element from 2nd row..\n",
    "print(b[0,3]) # accessing 4th element from 1st row..\n",
    "for j in b:\n",
    "    print(j) #Iterating through the 2-D Array\n",
    "for j in b:\n",
    "    for k in j:  #Iterating and getting the elements in the 2-D Array\n",
    "        print(k)\n",
    "print(b[1,1:4]) #prints the elements from 1st to 4th index in the 2nd column.\n",
    "print(b[0,0:3])\n",
    "d = np.array([2,4,1,6,4,7,9,1])\n",
    "x = np.where(d == 1)\n",
    "print(x) # shows where is 1 present in the whole array\n",
    "ans = np.where(d%2==0) # which index has even numbers and will return the indexes\n",
    "print(ans)\n",
    "print(np.sort(d)) # sorts the elements in the array.\n",
    "g = np.array(['fille','femme','garcon'])\n",
    "print(np.sort(g))"
   ]
  },
  {
   "cell_type": "code",
   "execution_count": 33,
   "id": "42b856f3",
   "metadata": {},
   "outputs": [
    {
     "name": "stdout",
     "output_type": "stream",
     "text": [
      "Requirement already satisfied: pandas in c:\\users\\lenovo\\appdata\\local\\programs\\python\\python311\\lib\\site-packages (2.0.2)\n",
      "Requirement already satisfied: python-dateutil>=2.8.2 in c:\\users\\lenovo\\appdata\\local\\programs\\python\\python311\\lib\\site-packages (from pandas) (2.8.2)\n",
      "Requirement already satisfied: pytz>=2020.1 in c:\\users\\lenovo\\appdata\\local\\programs\\python\\python311\\lib\\site-packages (from pandas) (2023.3)\n",
      "Requirement already satisfied: tzdata>=2022.1 in c:\\users\\lenovo\\appdata\\local\\programs\\python\\python311\\lib\\site-packages (from pandas) (2023.3)\n",
      "Requirement already satisfied: numpy>=1.21.0 in c:\\users\\lenovo\\appdata\\local\\programs\\python\\python311\\lib\\site-packages (from pandas) (1.24.2)\n",
      "Requirement already satisfied: six>=1.5 in c:\\users\\lenovo\\appdata\\local\\programs\\python\\python311\\lib\\site-packages (from python-dateutil>=2.8.2->pandas) (1.16.0)\n"
     ]
    },
    {
     "name": "stderr",
     "output_type": "stream",
     "text": [
      "\n",
      "[notice] A new release of pip is available: 23.0.1 -> 23.1.2\n",
      "[notice] To update, run: python.exe -m pip install --upgrade pip\n"
     ]
    }
   ],
   "source": [
    "!pip install pandas"
   ]
  },
  {
   "cell_type": "code",
   "execution_count": 41,
   "id": "67794be1",
   "metadata": {},
   "outputs": [
    {
     "name": "stdout",
     "output_type": "stream",
     "text": [
      "0     3\n",
      "1     6\n",
      "2     8\n",
      "3    10\n",
      "4    30\n",
      "5    22\n",
      "dtype: int64\n",
      "one      10\n",
      "two      20\n",
      "three    30\n",
      "dtype: int64\n",
      "  weekdays  test_score\n",
      "0   Monday          10\n",
      "1  Tuesday          30\n",
      "2   Friday          50\n",
      "weekdays      Monday\n",
      "test_score        10\n",
      "Name: 0, dtype: object\n",
      "weekdays      Tuesday\n",
      "test_score         30\n",
      "Name: 1, dtype: object\n"
     ]
    }
   ],
   "source": [
    "import pandas as pd\n",
    "l1 = [3,6,8,10,30,22]\n",
    "s1 = pd.Series(l1)\n",
    "print(s1)\n",
    "d1 = {\"one\":10,\"two\":20,\"three\":30}\n",
    "s2 = pd.Series(d1)\n",
    "print(s2)\n",
    "sample_data = {\n",
    "    \"weekdays\":['Monday','Tuesday','Friday'],\n",
    "    \"test_score\":[10,30,50]\n",
    "}\n",
    "df = pd.DataFrame(sample_data)\n",
    "print(df)\n",
    "print(df.loc[0])\n",
    "print(df.loc[1])"
   ]
  },
  {
   "cell_type": "code",
   "execution_count": 44,
   "id": "d927fdc6",
   "metadata": {},
   "outputs": [
    {
     "data": {
      "text/html": [
       "<div>\n",
       "<style scoped>\n",
       "    .dataframe tbody tr th:only-of-type {\n",
       "        vertical-align: middle;\n",
       "    }\n",
       "\n",
       "    .dataframe tbody tr th {\n",
       "        vertical-align: top;\n",
       "    }\n",
       "\n",
       "    .dataframe thead th {\n",
       "        text-align: right;\n",
       "    }\n",
       "</style>\n",
       "<table border=\"1\" class=\"dataframe\">\n",
       "  <thead>\n",
       "    <tr style=\"text-align: right;\">\n",
       "      <th></th>\n",
       "      <th>Serial Number</th>\n",
       "      <th>Country</th>\n",
       "      <th>Total Cases</th>\n",
       "      <th>Total Deaths</th>\n",
       "      <th>Total Recovered</th>\n",
       "      <th>Active Cases</th>\n",
       "      <th>Total Test</th>\n",
       "      <th>Population</th>\n",
       "    </tr>\n",
       "  </thead>\n",
       "  <tbody>\n",
       "    <tr>\n",
       "      <th>0</th>\n",
       "      <td>1</td>\n",
       "      <td>USA</td>\n",
       "      <td>104196861</td>\n",
       "      <td>1132935.0</td>\n",
       "      <td>101322779.0</td>\n",
       "      <td>1741147.0</td>\n",
       "      <td>1.159833e+09</td>\n",
       "      <td>3.348053e+08</td>\n",
       "    </tr>\n",
       "    <tr>\n",
       "      <th>1</th>\n",
       "      <td>2</td>\n",
       "      <td>India</td>\n",
       "      <td>44682784</td>\n",
       "      <td>530740.0</td>\n",
       "      <td>44150289.0</td>\n",
       "      <td>1755.0</td>\n",
       "      <td>9.152658e+08</td>\n",
       "      <td>1.406632e+09</td>\n",
       "    </tr>\n",
       "    <tr>\n",
       "      <th>2</th>\n",
       "      <td>3</td>\n",
       "      <td>France</td>\n",
       "      <td>39524311</td>\n",
       "      <td>164233.0</td>\n",
       "      <td>39264546.0</td>\n",
       "      <td>95532.0</td>\n",
       "      <td>2.714902e+08</td>\n",
       "      <td>6.558452e+07</td>\n",
       "    </tr>\n",
       "    <tr>\n",
       "      <th>3</th>\n",
       "      <td>4</td>\n",
       "      <td>Germany</td>\n",
       "      <td>37779833</td>\n",
       "      <td>165711.0</td>\n",
       "      <td>37398100.0</td>\n",
       "      <td>216022.0</td>\n",
       "      <td>1.223324e+08</td>\n",
       "      <td>8.388360e+07</td>\n",
       "    </tr>\n",
       "    <tr>\n",
       "      <th>4</th>\n",
       "      <td>5</td>\n",
       "      <td>Brazil</td>\n",
       "      <td>36824580</td>\n",
       "      <td>697074.0</td>\n",
       "      <td>35919372.0</td>\n",
       "      <td>208134.0</td>\n",
       "      <td>6.377617e+07</td>\n",
       "      <td>2.153536e+08</td>\n",
       "    </tr>\n",
       "    <tr>\n",
       "      <th>...</th>\n",
       "      <td>...</td>\n",
       "      <td>...</td>\n",
       "      <td>...</td>\n",
       "      <td>...</td>\n",
       "      <td>...</td>\n",
       "      <td>...</td>\n",
       "      <td>...</td>\n",
       "      <td>...</td>\n",
       "    </tr>\n",
       "    <tr>\n",
       "      <th>226</th>\n",
       "      <td>227</td>\n",
       "      <td>Diamond Princess</td>\n",
       "      <td>712</td>\n",
       "      <td>13.0</td>\n",
       "      <td>699.0</td>\n",
       "      <td>0.0</td>\n",
       "      <td>NaN</td>\n",
       "      <td>NaN</td>\n",
       "    </tr>\n",
       "    <tr>\n",
       "      <th>227</th>\n",
       "      <td>228</td>\n",
       "      <td>Vatican City</td>\n",
       "      <td>29</td>\n",
       "      <td>NaN</td>\n",
       "      <td>29.0</td>\n",
       "      <td>0.0</td>\n",
       "      <td>NaN</td>\n",
       "      <td>7.990000e+02</td>\n",
       "    </tr>\n",
       "    <tr>\n",
       "      <th>228</th>\n",
       "      <td>229</td>\n",
       "      <td>Western Sahara</td>\n",
       "      <td>10</td>\n",
       "      <td>1.0</td>\n",
       "      <td>9.0</td>\n",
       "      <td>0.0</td>\n",
       "      <td>NaN</td>\n",
       "      <td>6.261610e+05</td>\n",
       "    </tr>\n",
       "    <tr>\n",
       "      <th>229</th>\n",
       "      <td>230</td>\n",
       "      <td>MS Zaandam</td>\n",
       "      <td>9</td>\n",
       "      <td>2.0</td>\n",
       "      <td>7.0</td>\n",
       "      <td>0.0</td>\n",
       "      <td>NaN</td>\n",
       "      <td>NaN</td>\n",
       "    </tr>\n",
       "    <tr>\n",
       "      <th>230</th>\n",
       "      <td>231</td>\n",
       "      <td>Tokelau</td>\n",
       "      <td>5</td>\n",
       "      <td>NaN</td>\n",
       "      <td>NaN</td>\n",
       "      <td>5.0</td>\n",
       "      <td>NaN</td>\n",
       "      <td>1.378000e+03</td>\n",
       "    </tr>\n",
       "  </tbody>\n",
       "</table>\n",
       "<p>231 rows × 8 columns</p>\n",
       "</div>"
      ],
      "text/plain": [
       "     Serial Number           Country  Total Cases  Total Deaths  \\\n",
       "0                1               USA    104196861     1132935.0   \n",
       "1                2             India     44682784      530740.0   \n",
       "2                3            France     39524311      164233.0   \n",
       "3                4           Germany     37779833      165711.0   \n",
       "4                5            Brazil     36824580      697074.0   \n",
       "..             ...               ...          ...           ...   \n",
       "226            227  Diamond Princess          712          13.0   \n",
       "227            228      Vatican City           29           NaN   \n",
       "228            229    Western Sahara           10           1.0   \n",
       "229            230        MS Zaandam            9           2.0   \n",
       "230            231           Tokelau            5           NaN   \n",
       "\n",
       "     Total Recovered  Active Cases    Total Test    Population  \n",
       "0        101322779.0     1741147.0  1.159833e+09  3.348053e+08  \n",
       "1         44150289.0        1755.0  9.152658e+08  1.406632e+09  \n",
       "2         39264546.0       95532.0  2.714902e+08  6.558452e+07  \n",
       "3         37398100.0      216022.0  1.223324e+08  8.388360e+07  \n",
       "4         35919372.0      208134.0  6.377617e+07  2.153536e+08  \n",
       "..               ...           ...           ...           ...  \n",
       "226            699.0           0.0           NaN           NaN  \n",
       "227             29.0           0.0           NaN  7.990000e+02  \n",
       "228              9.0           0.0           NaN  6.261610e+05  \n",
       "229              7.0           0.0           NaN           NaN  \n",
       "230              NaN           5.0           NaN  1.378000e+03  \n",
       "\n",
       "[231 rows x 8 columns]"
      ]
     },
     "execution_count": 44,
     "metadata": {},
     "output_type": "execute_result"
    }
   ],
   "source": [
    "import pandas as pd\n",
    "df = pd.read_csv('covid_worldwide.csv')\n",
    "df"
   ]
  },
  {
   "cell_type": "code",
   "execution_count": null,
   "id": "bd2df547",
   "metadata": {},
   "outputs": [],
   "source": []
  }
 ],
 "metadata": {
  "kernelspec": {
   "display_name": "Python 3 (ipykernel)",
   "language": "python",
   "name": "python3"
  },
  "language_info": {
   "codemirror_mode": {
    "name": "ipython",
    "version": 3
   },
   "file_extension": ".py",
   "mimetype": "text/x-python",
   "name": "python",
   "nbconvert_exporter": "python",
   "pygments_lexer": "ipython3",
   "version": "3.11.2"
  }
 },
 "nbformat": 4,
 "nbformat_minor": 5
}
