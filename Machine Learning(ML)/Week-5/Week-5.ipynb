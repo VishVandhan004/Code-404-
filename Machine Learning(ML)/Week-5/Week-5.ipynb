{
 "cells": [
  {
   "cell_type": "code",
   "execution_count": 1,
   "id": "f7e35459",
   "metadata": {},
   "outputs": [
    {
     "name": "stderr",
     "output_type": "stream",
     "text": [
      "ERROR: Could not find a version that satisfies the requirement matlplotlib (from versions: none)\n",
      "ERROR: No matching distribution found for matlplotlib\n",
      "\n",
      "[notice] A new release of pip is available: 23.0.1 -> 23.1.2\n",
      "[notice] To update, run: python.exe -m pip install --upgrade pip\n"
     ]
    }
   ],
   "source": [
    "!pip install matlplotlib"
   ]
  },
  {
   "cell_type": "code",
   "execution_count": 2,
   "id": "59a6e4dc",
   "metadata": {},
   "outputs": [
    {
     "name": "stdout",
     "output_type": "stream",
     "text": [
      "Requirement already satisfied: pandas in c:\\users\\lenovo\\appdata\\local\\programs\\python\\python311\\lib\\site-packages (2.0.2)\n",
      "Requirement already satisfied: python-dateutil>=2.8.2 in c:\\users\\lenovo\\appdata\\local\\programs\\python\\python311\\lib\\site-packages (from pandas) (2.8.2)\n",
      "Requirement already satisfied: pytz>=2020.1 in c:\\users\\lenovo\\appdata\\local\\programs\\python\\python311\\lib\\site-packages (from pandas) (2023.3)\n",
      "Requirement already satisfied: tzdata>=2022.1 in c:\\users\\lenovo\\appdata\\local\\programs\\python\\python311\\lib\\site-packages (from pandas) (2023.3)\n",
      "Requirement already satisfied: numpy>=1.21.0 in c:\\users\\lenovo\\appdata\\local\\programs\\python\\python311\\lib\\site-packages (from pandas) (1.24.2)\n",
      "Requirement already satisfied: six>=1.5 in c:\\users\\lenovo\\appdata\\local\\programs\\python\\python311\\lib\\site-packages (from python-dateutil>=2.8.2->pandas) (1.16.0)\n"
     ]
    },
    {
     "name": "stderr",
     "output_type": "stream",
     "text": [
      "\n",
      "[notice] A new release of pip is available: 23.0.1 -> 23.1.2\n",
      "[notice] To update, run: python.exe -m pip install --upgrade pip\n"
     ]
    }
   ],
   "source": [
    "!pip install pandas"
   ]
  },
  {
   "cell_type": "code",
   "execution_count": 10,
   "id": "09861d5d",
   "metadata": {},
   "outputs": [
    {
     "name": "stdout",
     "output_type": "stream",
     "text": [
      "Requirement already satisfied: scikit-learn in c:\\users\\lenovo\\appdata\\local\\programs\\python\\python311\\lib\\site-packages (1.2.2)\n",
      "Requirement already satisfied: numpy>=1.17.3 in c:\\users\\lenovo\\appdata\\local\\programs\\python\\python311\\lib\\site-packages (from scikit-learn) (1.24.2)\n",
      "Requirement already satisfied: scipy>=1.3.2 in c:\\users\\lenovo\\appdata\\local\\programs\\python\\python311\\lib\\site-packages (from scikit-learn) (1.10.1)\n",
      "Requirement already satisfied: joblib>=1.1.1 in c:\\users\\lenovo\\appdata\\local\\programs\\python\\python311\\lib\\site-packages (from scikit-learn) (1.2.0)\n",
      "Requirement already satisfied: threadpoolctl>=2.0.0 in c:\\users\\lenovo\\appdata\\local\\programs\\python\\python311\\lib\\site-packages (from scikit-learn) (3.1.0)\n"
     ]
    },
    {
     "name": "stderr",
     "output_type": "stream",
     "text": [
      "\n",
      "[notice] A new release of pip is available: 23.0.1 -> 23.1.2\n",
      "[notice] To update, run: python.exe -m pip install --upgrade pip\n"
     ]
    }
   ],
   "source": [
    "!pip install scikit-learn"
   ]
  },
  {
   "cell_type": "code",
   "execution_count": 4,
   "id": "7b7a5cb8",
   "metadata": {},
   "outputs": [
    {
     "name": "stdout",
     "output_type": "stream",
     "text": [
      "Requirement already satisfied: numpy in c:\\users\\lenovo\\appdata\\local\\programs\\python\\python311\\lib\\site-packages (1.24.2)\n"
     ]
    },
    {
     "name": "stderr",
     "output_type": "stream",
     "text": [
      "\n",
      "[notice] A new release of pip is available: 23.0.1 -> 23.1.2\n",
      "[notice] To update, run: python.exe -m pip install --upgrade pip\n"
     ]
    }
   ],
   "source": [
    "!pip install numpy"
   ]
  },
  {
   "cell_type": "code",
   "execution_count": 5,
   "id": "02547995",
   "metadata": {},
   "outputs": [],
   "source": [
    "import numpy as np\n",
    "import matplotlib.pyplot as plt\n",
    "import pandas as pd\n"
   ]
  },
  {
   "cell_type": "code",
   "execution_count": 7,
   "id": "d5c3e0c1",
   "metadata": {},
   "outputs": [
    {
     "data": {
      "text/html": [
       "<div>\n",
       "<style scoped>\n",
       "    .dataframe tbody tr th:only-of-type {\n",
       "        vertical-align: middle;\n",
       "    }\n",
       "\n",
       "    .dataframe tbody tr th {\n",
       "        vertical-align: top;\n",
       "    }\n",
       "\n",
       "    .dataframe thead th {\n",
       "        text-align: right;\n",
       "    }\n",
       "</style>\n",
       "<table border=\"1\" class=\"dataframe\">\n",
       "  <thead>\n",
       "    <tr style=\"text-align: right;\">\n",
       "      <th></th>\n",
       "      <th>User ID</th>\n",
       "      <th>Gender</th>\n",
       "      <th>Age</th>\n",
       "      <th>EstimatedSalary</th>\n",
       "      <th>Purchased</th>\n",
       "    </tr>\n",
       "  </thead>\n",
       "  <tbody>\n",
       "    <tr>\n",
       "      <th>0</th>\n",
       "      <td>15624510</td>\n",
       "      <td>Male</td>\n",
       "      <td>19</td>\n",
       "      <td>19000</td>\n",
       "      <td>0</td>\n",
       "    </tr>\n",
       "    <tr>\n",
       "      <th>1</th>\n",
       "      <td>15810944</td>\n",
       "      <td>Male</td>\n",
       "      <td>35</td>\n",
       "      <td>20000</td>\n",
       "      <td>0</td>\n",
       "    </tr>\n",
       "    <tr>\n",
       "      <th>2</th>\n",
       "      <td>15668575</td>\n",
       "      <td>Female</td>\n",
       "      <td>26</td>\n",
       "      <td>43000</td>\n",
       "      <td>0</td>\n",
       "    </tr>\n",
       "    <tr>\n",
       "      <th>3</th>\n",
       "      <td>15603246</td>\n",
       "      <td>Female</td>\n",
       "      <td>27</td>\n",
       "      <td>57000</td>\n",
       "      <td>0</td>\n",
       "    </tr>\n",
       "    <tr>\n",
       "      <th>4</th>\n",
       "      <td>15804002</td>\n",
       "      <td>Male</td>\n",
       "      <td>19</td>\n",
       "      <td>76000</td>\n",
       "      <td>0</td>\n",
       "    </tr>\n",
       "    <tr>\n",
       "      <th>...</th>\n",
       "      <td>...</td>\n",
       "      <td>...</td>\n",
       "      <td>...</td>\n",
       "      <td>...</td>\n",
       "      <td>...</td>\n",
       "    </tr>\n",
       "    <tr>\n",
       "      <th>395</th>\n",
       "      <td>15691863</td>\n",
       "      <td>Female</td>\n",
       "      <td>46</td>\n",
       "      <td>41000</td>\n",
       "      <td>1</td>\n",
       "    </tr>\n",
       "    <tr>\n",
       "      <th>396</th>\n",
       "      <td>15706071</td>\n",
       "      <td>Male</td>\n",
       "      <td>51</td>\n",
       "      <td>23000</td>\n",
       "      <td>1</td>\n",
       "    </tr>\n",
       "    <tr>\n",
       "      <th>397</th>\n",
       "      <td>15654296</td>\n",
       "      <td>Female</td>\n",
       "      <td>50</td>\n",
       "      <td>20000</td>\n",
       "      <td>1</td>\n",
       "    </tr>\n",
       "    <tr>\n",
       "      <th>398</th>\n",
       "      <td>15755018</td>\n",
       "      <td>Male</td>\n",
       "      <td>36</td>\n",
       "      <td>33000</td>\n",
       "      <td>0</td>\n",
       "    </tr>\n",
       "    <tr>\n",
       "      <th>399</th>\n",
       "      <td>15594041</td>\n",
       "      <td>Female</td>\n",
       "      <td>49</td>\n",
       "      <td>36000</td>\n",
       "      <td>1</td>\n",
       "    </tr>\n",
       "  </tbody>\n",
       "</table>\n",
       "<p>400 rows × 5 columns</p>\n",
       "</div>"
      ],
      "text/plain": [
       "      User ID  Gender  Age  EstimatedSalary  Purchased\n",
       "0    15624510    Male   19            19000          0\n",
       "1    15810944    Male   35            20000          0\n",
       "2    15668575  Female   26            43000          0\n",
       "3    15603246  Female   27            57000          0\n",
       "4    15804002    Male   19            76000          0\n",
       "..        ...     ...  ...              ...        ...\n",
       "395  15691863  Female   46            41000          1\n",
       "396  15706071    Male   51            23000          1\n",
       "397  15654296  Female   50            20000          1\n",
       "398  15755018    Male   36            33000          0\n",
       "399  15594041  Female   49            36000          1\n",
       "\n",
       "[400 rows x 5 columns]"
      ]
     },
     "execution_count": 7,
     "metadata": {},
     "output_type": "execute_result"
    }
   ],
   "source": [
    "df = pd.read_csv('suv_data.csv')\n",
    "df"
   ]
  },
  {
   "cell_type": "code",
   "execution_count": 8,
   "id": "4df0b647",
   "metadata": {},
   "outputs": [],
   "source": [
    "x = df.iloc[:,[2,3]].values\n",
    "y = df.iloc[:,4].values"
   ]
  },
  {
   "cell_type": "code",
   "execution_count": 11,
   "id": "9da36105",
   "metadata": {},
   "outputs": [],
   "source": [
    "from sklearn.model_selection import train_test_split # TRAINING AND TESTING..\n",
    "x_train,x_test,y_train,y_test = train_test_split(x,y,test_size=0.25, random_state=0)"
   ]
  },
  {
   "cell_type": "code",
   "execution_count": 12,
   "id": "f8da092a",
   "metadata": {},
   "outputs": [],
   "source": [
    "from sklearn.preprocessing import StandardScaler\n",
    "st_x = StandardScaler()\n",
    "x_train = st_x.fit_transform(x_train)\n",
    "x_test = st_x.transform(x_test)          # FEATURE SCALING"
   ]
  },
  {
   "cell_type": "code",
   "execution_count": 13,
   "id": "f00c11b0",
   "metadata": {},
   "outputs": [
    {
     "data": {
      "text/html": [
       "<style>#sk-container-id-1 {color: black;background-color: white;}#sk-container-id-1 pre{padding: 0;}#sk-container-id-1 div.sk-toggleable {background-color: white;}#sk-container-id-1 label.sk-toggleable__label {cursor: pointer;display: block;width: 100%;margin-bottom: 0;padding: 0.3em;box-sizing: border-box;text-align: center;}#sk-container-id-1 label.sk-toggleable__label-arrow:before {content: \"▸\";float: left;margin-right: 0.25em;color: #696969;}#sk-container-id-1 label.sk-toggleable__label-arrow:hover:before {color: black;}#sk-container-id-1 div.sk-estimator:hover label.sk-toggleable__label-arrow:before {color: black;}#sk-container-id-1 div.sk-toggleable__content {max-height: 0;max-width: 0;overflow: hidden;text-align: left;background-color: #f0f8ff;}#sk-container-id-1 div.sk-toggleable__content pre {margin: 0.2em;color: black;border-radius: 0.25em;background-color: #f0f8ff;}#sk-container-id-1 input.sk-toggleable__control:checked~div.sk-toggleable__content {max-height: 200px;max-width: 100%;overflow: auto;}#sk-container-id-1 input.sk-toggleable__control:checked~label.sk-toggleable__label-arrow:before {content: \"▾\";}#sk-container-id-1 div.sk-estimator input.sk-toggleable__control:checked~label.sk-toggleable__label {background-color: #d4ebff;}#sk-container-id-1 div.sk-label input.sk-toggleable__control:checked~label.sk-toggleable__label {background-color: #d4ebff;}#sk-container-id-1 input.sk-hidden--visually {border: 0;clip: rect(1px 1px 1px 1px);clip: rect(1px, 1px, 1px, 1px);height: 1px;margin: -1px;overflow: hidden;padding: 0;position: absolute;width: 1px;}#sk-container-id-1 div.sk-estimator {font-family: monospace;background-color: #f0f8ff;border: 1px dotted black;border-radius: 0.25em;box-sizing: border-box;margin-bottom: 0.5em;}#sk-container-id-1 div.sk-estimator:hover {background-color: #d4ebff;}#sk-container-id-1 div.sk-parallel-item::after {content: \"\";width: 100%;border-bottom: 1px solid gray;flex-grow: 1;}#sk-container-id-1 div.sk-label:hover label.sk-toggleable__label {background-color: #d4ebff;}#sk-container-id-1 div.sk-serial::before {content: \"\";position: absolute;border-left: 1px solid gray;box-sizing: border-box;top: 0;bottom: 0;left: 50%;z-index: 0;}#sk-container-id-1 div.sk-serial {display: flex;flex-direction: column;align-items: center;background-color: white;padding-right: 0.2em;padding-left: 0.2em;position: relative;}#sk-container-id-1 div.sk-item {position: relative;z-index: 1;}#sk-container-id-1 div.sk-parallel {display: flex;align-items: stretch;justify-content: center;background-color: white;position: relative;}#sk-container-id-1 div.sk-item::before, #sk-container-id-1 div.sk-parallel-item::before {content: \"\";position: absolute;border-left: 1px solid gray;box-sizing: border-box;top: 0;bottom: 0;left: 50%;z-index: -1;}#sk-container-id-1 div.sk-parallel-item {display: flex;flex-direction: column;z-index: 1;position: relative;background-color: white;}#sk-container-id-1 div.sk-parallel-item:first-child::after {align-self: flex-end;width: 50%;}#sk-container-id-1 div.sk-parallel-item:last-child::after {align-self: flex-start;width: 50%;}#sk-container-id-1 div.sk-parallel-item:only-child::after {width: 0;}#sk-container-id-1 div.sk-dashed-wrapped {border: 1px dashed gray;margin: 0 0.4em 0.5em 0.4em;box-sizing: border-box;padding-bottom: 0.4em;background-color: white;}#sk-container-id-1 div.sk-label label {font-family: monospace;font-weight: bold;display: inline-block;line-height: 1.2em;}#sk-container-id-1 div.sk-label-container {text-align: center;}#sk-container-id-1 div.sk-container {/* jupyter's `normalize.less` sets `[hidden] { display: none; }` but bootstrap.min.css set `[hidden] { display: none !important; }` so we also need the `!important` here to be able to override the default hidden behavior on the sphinx rendered scikit-learn.org. See: https://github.com/scikit-learn/scikit-learn/issues/21755 */display: inline-block !important;position: relative;}#sk-container-id-1 div.sk-text-repr-fallback {display: none;}</style><div id=\"sk-container-id-1\" class=\"sk-top-container\"><div class=\"sk-text-repr-fallback\"><pre>LogisticRegression(random_state=0)</pre><b>In a Jupyter environment, please rerun this cell to show the HTML representation or trust the notebook. <br />On GitHub, the HTML representation is unable to render, please try loading this page with nbviewer.org.</b></div><div class=\"sk-container\" hidden><div class=\"sk-item\"><div class=\"sk-estimator sk-toggleable\"><input class=\"sk-toggleable__control sk-hidden--visually\" id=\"sk-estimator-id-1\" type=\"checkbox\" checked><label for=\"sk-estimator-id-1\" class=\"sk-toggleable__label sk-toggleable__label-arrow\">LogisticRegression</label><div class=\"sk-toggleable__content\"><pre>LogisticRegression(random_state=0)</pre></div></div></div></div></div>"
      ],
      "text/plain": [
       "LogisticRegression(random_state=0)"
      ]
     },
     "execution_count": 13,
     "metadata": {},
     "output_type": "execute_result"
    }
   ],
   "source": [
    "from sklearn.linear_model import LogisticRegression\n",
    "classifier = LogisticRegression(random_state = 0)\n",
    "classifier.fit(x_train,y_train)"
   ]
  },
  {
   "cell_type": "code",
   "execution_count": 14,
   "id": "4e0b7205",
   "metadata": {},
   "outputs": [],
   "source": [
    "y_pred = classifier.predict(x_test)"
   ]
  },
  {
   "cell_type": "code",
   "execution_count": 16,
   "id": "4d5b37c4",
   "metadata": {},
   "outputs": [
    {
     "name": "stdout",
     "output_type": "stream",
     "text": [
      "Collecting mlxtend\n",
      "  Downloading mlxtend-0.22.0-py2.py3-none-any.whl (1.4 MB)\n",
      "     ---------------------------------------- 0.0/1.4 MB ? eta -:--:--\n",
      "     ---------------------------------------- 0.0/1.4 MB ? eta -:--:--\n",
      "      --------------------------------------- 0.0/1.4 MB 660.6 kB/s eta 0:00:03\n",
      "      --------------------------------------- 0.0/1.4 MB 660.6 kB/s eta 0:00:03\n",
      "     - -------------------------------------- 0.0/1.4 MB 178.6 kB/s eta 0:00:08\n",
      "     - -------------------------------------- 0.1/1.4 MB 252.2 kB/s eta 0:00:06\n",
      "     -- ------------------------------------- 0.1/1.4 MB 231.8 kB/s eta 0:00:06\n",
      "     -- ------------------------------------- 0.1/1.4 MB 231.8 kB/s eta 0:00:06\n",
      "     -- ------------------------------------- 0.1/1.4 MB 249.8 kB/s eta 0:00:06\n",
      "     --- ------------------------------------ 0.1/1.4 MB 252.2 kB/s eta 0:00:05\n",
      "     --- ------------------------------------ 0.1/1.4 MB 252.2 kB/s eta 0:00:05\n",
      "     --- ------------------------------------ 0.1/1.4 MB 240.2 kB/s eta 0:00:06\n",
      "     ---- ----------------------------------- 0.1/1.4 MB 250.7 kB/s eta 0:00:05\n",
      "     ---- ----------------------------------- 0.1/1.4 MB 250.7 kB/s eta 0:00:05\n",
      "     ---- ----------------------------------- 0.2/1.4 MB 235.4 kB/s eta 0:00:06\n",
      "     ----- ---------------------------------- 0.2/1.4 MB 233.1 kB/s eta 0:00:06\n",
      "     ----- ---------------------------------- 0.2/1.4 MB 233.1 kB/s eta 0:00:06\n",
      "     ------ --------------------------------- 0.2/1.4 MB 249.1 kB/s eta 0:00:05\n",
      "     ------ --------------------------------- 0.2/1.4 MB 264.8 kB/s eta 0:00:05\n",
      "     ------ --------------------------------- 0.2/1.4 MB 257.5 kB/s eta 0:00:05\n",
      "     ------- -------------------------------- 0.3/1.4 MB 262.3 kB/s eta 0:00:05\n",
      "     -------- ------------------------------- 0.3/1.4 MB 270.6 kB/s eta 0:00:04\n",
      "     -------- ------------------------------- 0.3/1.4 MB 268.2 kB/s eta 0:00:04\n",
      "     --------- ------------------------------ 0.3/1.4 MB 279.6 kB/s eta 0:00:04\n",
      "     --------- ------------------------------ 0.3/1.4 MB 277.0 kB/s eta 0:00:04\n",
      "     --------- ------------------------------ 0.3/1.4 MB 283.5 kB/s eta 0:00:04\n",
      "     --------- ------------------------------ 0.3/1.4 MB 283.5 kB/s eta 0:00:04\n",
      "     ---------- ----------------------------- 0.4/1.4 MB 285.6 kB/s eta 0:00:04\n",
      "     ---------- ----------------------------- 0.4/1.4 MB 276.3 kB/s eta 0:00:04\n",
      "     ----------- ---------------------------- 0.4/1.4 MB 281.9 kB/s eta 0:00:04\n",
      "     ----------- ---------------------------- 0.4/1.4 MB 281.9 kB/s eta 0:00:04\n",
      "     ----------- ---------------------------- 0.4/1.4 MB 276.8 kB/s eta 0:00:04\n",
      "     ------------ --------------------------- 0.4/1.4 MB 282.9 kB/s eta 0:00:04\n",
      "     ------------ --------------------------- 0.4/1.4 MB 282.9 kB/s eta 0:00:04\n",
      "     ------------- -------------------------- 0.5/1.4 MB 284.6 kB/s eta 0:00:04\n",
      "     ------------- -------------------------- 0.5/1.4 MB 280.0 kB/s eta 0:00:04\n",
      "     -------------- ------------------------- 0.5/1.4 MB 284.4 kB/s eta 0:00:04\n",
      "     -------------- ------------------------- 0.5/1.4 MB 284.4 kB/s eta 0:00:04\n",
      "     -------------- ------------------------- 0.5/1.4 MB 277.6 kB/s eta 0:00:04\n",
      "     -------------- ------------------------- 0.5/1.4 MB 277.6 kB/s eta 0:00:04\n",
      "     --------------- ------------------------ 0.5/1.4 MB 276.9 kB/s eta 0:00:04\n",
      "     --------------- ------------------------ 0.5/1.4 MB 276.3 kB/s eta 0:00:03\n",
      "     ---------------- ----------------------- 0.5/1.4 MB 277.0 kB/s eta 0:00:03\n",
      "     ---------------- ----------------------- 0.5/1.4 MB 277.0 kB/s eta 0:00:03\n",
      "     ---------------- ----------------------- 0.6/1.4 MB 274.4 kB/s eta 0:00:03\n",
      "     ---------------- ----------------------- 0.6/1.4 MB 274.4 kB/s eta 0:00:03\n",
      "     ---------------- ----------------------- 0.6/1.4 MB 269.0 kB/s eta 0:00:03\n",
      "     ----------------- ---------------------- 0.6/1.4 MB 268.7 kB/s eta 0:00:03\n",
      "     ------------------ --------------------- 0.6/1.4 MB 276.2 kB/s eta 0:00:03\n",
      "     ------------------ --------------------- 0.6/1.4 MB 273.1 kB/s eta 0:00:03\n",
      "     ------------------ --------------------- 0.6/1.4 MB 273.1 kB/s eta 0:00:03\n",
      "     ------------------- -------------------- 0.6/1.4 MB 270.9 kB/s eta 0:00:03\n",
      "     ------------------- -------------------- 0.7/1.4 MB 269.9 kB/s eta 0:00:03\n",
      "     ------------------- -------------------- 0.7/1.4 MB 269.9 kB/s eta 0:00:03\n",
      "     ------------------- -------------------- 0.7/1.4 MB 269.6 kB/s eta 0:00:03\n",
      "     -------------------- ------------------- 0.7/1.4 MB 274.4 kB/s eta 0:00:03\n",
      "     -------------------- ------------------- 0.7/1.4 MB 271.8 kB/s eta 0:00:03\n",
      "     --------------------- ------------------ 0.7/1.4 MB 273.1 kB/s eta 0:00:03\n",
      "     --------------------- ------------------ 0.7/1.4 MB 272.1 kB/s eta 0:00:03\n",
      "     ---------------------- ----------------- 0.8/1.4 MB 273.4 kB/s eta 0:00:03\n",
      "     ---------------------- ----------------- 0.8/1.4 MB 273.4 kB/s eta 0:00:03\n",
      "     ----------------------- ---------------- 0.8/1.4 MB 276.8 kB/s eta 0:00:03\n",
      "     ----------------------- ---------------- 0.8/1.4 MB 279.4 kB/s eta 0:00:02\n",
      "     ----------------------- ---------------- 0.8/1.4 MB 279.4 kB/s eta 0:00:02\n",
      "     ------------------------ --------------- 0.8/1.4 MB 273.9 kB/s eta 0:00:02\n",
      "     ------------------------ --------------- 0.8/1.4 MB 273.9 kB/s eta 0:00:02\n",
      "     ------------------------ --------------- 0.8/1.4 MB 273.7 kB/s eta 0:00:02\n",
      "     ------------------------ --------------- 0.8/1.4 MB 273.7 kB/s eta 0:00:02\n",
      "     ------------------------- -------------- 0.9/1.4 MB 270.7 kB/s eta 0:00:02\n",
      "     ------------------------- -------------- 0.9/1.4 MB 269.9 kB/s eta 0:00:02\n",
      "     ------------------------- -------------- 0.9/1.4 MB 269.9 kB/s eta 0:00:02\n",
      "     -------------------------- ------------- 0.9/1.4 MB 264.0 kB/s eta 0:00:02\n",
      "     -------------------------- ------------- 0.9/1.4 MB 267.1 kB/s eta 0:00:02\n",
      "     -------------------------- ------------- 0.9/1.4 MB 267.1 kB/s eta 0:00:02\n",
      "     -------------------------- ------------- 0.9/1.4 MB 261.6 kB/s eta 0:00:02\n",
      "     -------------------------- ------------- 0.9/1.4 MB 261.6 kB/s eta 0:00:02\n",
      "     -------------------------- ------------- 0.9/1.4 MB 261.6 kB/s eta 0:00:02\n",
      "     --------------------------- ------------ 0.9/1.4 MB 256.9 kB/s eta 0:00:02\n",
      "     --------------------------- ------------ 0.9/1.4 MB 258.2 kB/s eta 0:00:02\n",
      "     --------------------------- ------------ 0.9/1.4 MB 258.2 kB/s eta 0:00:02\n",
      "     ---------------------------- ----------- 1.0/1.4 MB 253.3 kB/s eta 0:00:02\n",
      "     ---------------------------- ----------- 1.0/1.4 MB 253.3 kB/s eta 0:00:02\n",
      "     ---------------------------- ----------- 1.0/1.4 MB 253.5 kB/s eta 0:00:02\n",
      "     ----------------------------- ---------- 1.0/1.4 MB 252.1 kB/s eta 0:00:02\n",
      "     ----------------------------- ---------- 1.0/1.4 MB 252.1 kB/s eta 0:00:02\n",
      "     ----------------------------- ---------- 1.0/1.4 MB 252.1 kB/s eta 0:00:02\n",
      "     ----------------------------- ---------- 1.0/1.4 MB 245.8 kB/s eta 0:00:02\n",
      "     ----------------------------- ---------- 1.0/1.4 MB 245.8 kB/s eta 0:00:02\n",
      "     ----------------------------- ---------- 1.0/1.4 MB 247.1 kB/s eta 0:00:02\n",
      "     ----------------------------- ---------- 1.0/1.4 MB 247.1 kB/s eta 0:00:02\n",
      "     ------------------------------ --------- 1.0/1.4 MB 246.4 kB/s eta 0:00:02\n",
      "     ------------------------------ --------- 1.0/1.4 MB 244.3 kB/s eta 0:00:02\n",
      "     ------------------------------ --------- 1.0/1.4 MB 244.3 kB/s eta 0:00:02\n",
      "     ------------------------------ --------- 1.0/1.4 MB 244.3 kB/s eta 0:00:02\n",
      "     ------------------------------- -------- 1.1/1.4 MB 242.0 kB/s eta 0:00:02\n",
      "     ------------------------------- -------- 1.1/1.4 MB 240.8 kB/s eta 0:00:02\n",
      "     -------------------------------- ------- 1.1/1.4 MB 242.1 kB/s eta 0:00:02\n",
      "     -------------------------------- ------- 1.1/1.4 MB 242.1 kB/s eta 0:00:02\n",
      "     -------------------------------- ------- 1.1/1.4 MB 243.2 kB/s eta 0:00:01\n",
      "     --------------------------------- ------ 1.1/1.4 MB 242.2 kB/s eta 0:00:01\n",
      "     --------------------------------- ------ 1.1/1.4 MB 244.1 kB/s eta 0:00:01\n",
      "     ---------------------------------- ----- 1.2/1.4 MB 243.9 kB/s eta 0:00:01\n",
      "     ---------------------------------- ----- 1.2/1.4 MB 245.8 kB/s eta 0:00:01\n",
      "     ----------------------------------- ---- 1.2/1.4 MB 248.4 kB/s eta 0:00:01\n",
      "     ----------------------------------- ---- 1.2/1.4 MB 248.2 kB/s eta 0:00:01\n",
      "     ------------------------------------ --- 1.2/1.4 MB 250.0 kB/s eta 0:00:01\n",
      "     ------------------------------------ --- 1.2/1.4 MB 248.1 kB/s eta 0:00:01\n",
      "     ------------------------------------ --- 1.2/1.4 MB 248.1 kB/s eta 0:00:01\n",
      "     ------------------------------------- -- 1.3/1.4 MB 251.6 kB/s eta 0:00:01\n",
      "     ------------------------------------- -- 1.3/1.4 MB 251.6 kB/s eta 0:00:01\n",
      "     -------------------------------------- - 1.3/1.4 MB 249.8 kB/s eta 0:00:01\n",
      "     -------------------------------------- - 1.3/1.4 MB 250.7 kB/s eta 0:00:01\n",
      "     -------------------------------------- - 1.3/1.4 MB 250.7 kB/s eta 0:00:01\n",
      "     ---------------------------------------  1.3/1.4 MB 249.7 kB/s eta 0:00:01\n",
      "     ---------------------------------------  1.4/1.4 MB 251.8 kB/s eta 0:00:01\n",
      "     ---------------------------------------- 1.4/1.4 MB 251.3 kB/s eta 0:00:00\n",
      "Requirement already satisfied: scipy>=1.2.1 in c:\\users\\lenovo\\appdata\\local\\programs\\python\\python311\\lib\\site-packages (from mlxtend) (1.10.1)\n",
      "Requirement already satisfied: numpy>=1.16.2 in c:\\users\\lenovo\\appdata\\local\\programs\\python\\python311\\lib\\site-packages (from mlxtend) (1.24.2)\n",
      "Requirement already satisfied: pandas>=0.24.2 in c:\\users\\lenovo\\appdata\\local\\programs\\python\\python311\\lib\\site-packages (from mlxtend) (2.0.2)\n",
      "Requirement already satisfied: scikit-learn>=1.0.2 in c:\\users\\lenovo\\appdata\\local\\programs\\python\\python311\\lib\\site-packages (from mlxtend) (1.2.2)\n",
      "Requirement already satisfied: matplotlib>=3.0.0 in c:\\users\\lenovo\\appdata\\local\\programs\\python\\python311\\lib\\site-packages (from mlxtend) (3.7.1)\n",
      "Requirement already satisfied: joblib>=0.13.2 in c:\\users\\lenovo\\appdata\\local\\programs\\python\\python311\\lib\\site-packages (from mlxtend) (1.2.0)\n",
      "Requirement already satisfied: setuptools in c:\\users\\lenovo\\appdata\\local\\programs\\python\\python311\\lib\\site-packages (from mlxtend) (65.5.0)\n",
      "Requirement already satisfied: contourpy>=1.0.1 in c:\\users\\lenovo\\appdata\\local\\programs\\python\\python311\\lib\\site-packages (from matplotlib>=3.0.0->mlxtend) (1.1.0)\n",
      "Requirement already satisfied: cycler>=0.10 in c:\\users\\lenovo\\appdata\\local\\programs\\python\\python311\\lib\\site-packages (from matplotlib>=3.0.0->mlxtend) (0.11.0)\n",
      "Requirement already satisfied: fonttools>=4.22.0 in c:\\users\\lenovo\\appdata\\local\\programs\\python\\python311\\lib\\site-packages (from matplotlib>=3.0.0->mlxtend) (4.40.0)\n",
      "Requirement already satisfied: kiwisolver>=1.0.1 in c:\\users\\lenovo\\appdata\\local\\programs\\python\\python311\\lib\\site-packages (from matplotlib>=3.0.0->mlxtend) (1.4.4)\n",
      "Requirement already satisfied: packaging>=20.0 in c:\\users\\lenovo\\appdata\\local\\programs\\python\\python311\\lib\\site-packages (from matplotlib>=3.0.0->mlxtend) (23.1)\n",
      "Requirement already satisfied: pillow>=6.2.0 in c:\\users\\lenovo\\appdata\\local\\programs\\python\\python311\\lib\\site-packages (from matplotlib>=3.0.0->mlxtend) (9.5.0)\n",
      "Requirement already satisfied: pyparsing>=2.3.1 in c:\\users\\lenovo\\appdata\\local\\programs\\python\\python311\\lib\\site-packages (from matplotlib>=3.0.0->mlxtend) (3.0.9)\n",
      "Requirement already satisfied: python-dateutil>=2.7 in c:\\users\\lenovo\\appdata\\local\\programs\\python\\python311\\lib\\site-packages (from matplotlib>=3.0.0->mlxtend) (2.8.2)\n",
      "Requirement already satisfied: pytz>=2020.1 in c:\\users\\lenovo\\appdata\\local\\programs\\python\\python311\\lib\\site-packages (from pandas>=0.24.2->mlxtend) (2023.3)\n",
      "Requirement already satisfied: tzdata>=2022.1 in c:\\users\\lenovo\\appdata\\local\\programs\\python\\python311\\lib\\site-packages (from pandas>=0.24.2->mlxtend) (2023.3)\n",
      "Requirement already satisfied: threadpoolctl>=2.0.0 in c:\\users\\lenovo\\appdata\\local\\programs\\python\\python311\\lib\\site-packages (from scikit-learn>=1.0.2->mlxtend) (3.1.0)\n",
      "Requirement already satisfied: six>=1.5 in c:\\users\\lenovo\\appdata\\local\\programs\\python\\python311\\lib\\site-packages (from python-dateutil>=2.7->matplotlib>=3.0.0->mlxtend) (1.16.0)\n",
      "Installing collected packages: mlxtend\n",
      "Successfully installed mlxtend-0.22.0\n"
     ]
    },
    {
     "name": "stderr",
     "output_type": "stream",
     "text": [
      "\n",
      "[notice] A new release of pip is available: 23.0.1 -> 23.1.2\n",
      "[notice] To update, run: python.exe -m pip install --upgrade pip\n"
     ]
    }
   ],
   "source": [
    "!pip install mlxtend"
   ]
  },
  {
   "cell_type": "code",
   "execution_count": 17,
   "id": "4188ba39",
   "metadata": {},
   "outputs": [
    {
     "name": "stdout",
     "output_type": "stream",
     "text": [
      "[[65  3]\n",
      " [ 8 24]]\n"
     ]
    },
    {
     "data": {
      "image/png": "[encoded data removed]",
      "text/plain": [
       "<Figure size 600x600 with 1 Axes>"
      ]
     },
     "metadata": {},
     "output_type": "display_data"
    },
    {
     "data": {
      "text/plain": [
       "0.89"
      ]
     },
     "execution_count": 17,
     "metadata": {},
     "output_type": "execute_result"
    }
   ],
   "source": [
    "from sklearn.metrics import confusion_matrix, accuracy_score, roc_auc_score\n",
    "cm7 = confusion_matrix(y_test, y_pred)\n",
    "print(cm7)\n",
    "from mlxtend.plotting import plot_confusion_matrix\n",
    "import matplotlib.pyplot as plt\n",
    "fig, ax = plot_confusion_matrix(conf_mat = cm7, figsize=(6,6),cmap = plt.cm.Greens)\n",
    "plt.xlabel('Predictions',fontsize=18)\n",
    "plt.ylabel('Actuals',fontsize=18)\n",
    "plt.title('Confusion_Matrix',fontsize=18)\n",
    "plt.show()\n",
    "logreg = accuracy_score(y_test,y_pred)\n",
    "logreg"
   ]
  },
  {
   "cell_type": "code",
   "execution_count": 18,
   "id": "f42de0c9",
   "metadata": {},
   "outputs": [
    {
     "data": {
      "text/plain": [
       "0.8529411764705883"
      ]
     },
     "execution_count": 18,
     "metadata": {},
     "output_type": "execute_result"
    }
   ],
   "source": [
    "roc_auc_score(y_test,y_pred)"
   ]
  },
  {
   "cell_type": "code",
   "execution_count": 19,
   "id": "62cb6ddd",
   "metadata": {},
   "outputs": [
    {
     "name": "stdout",
     "output_type": "stream",
     "text": [
      "              precision    recall  f1-score   support\n",
      "\n",
      "           0       0.89      0.96      0.92        68\n",
      "           1       0.89      0.75      0.81        32\n",
      "\n",
      "    accuracy                           0.89       100\n",
      "   macro avg       0.89      0.85      0.87       100\n",
      "weighted avg       0.89      0.89      0.89       100\n",
      "\n"
     ]
    }
   ],
   "source": [
    "import sklearn.metrics as metrics\n",
    "print(metrics.classification_report(y_test,y_pred)) "
   ]
  },
  {
   "cell_type": "code",
   "execution_count": 20,
   "id": "697dbe70",
   "metadata": {},
   "outputs": [
    {
     "data": {
      "image/png": "[encoded data removed]",
      "text/plain": [
       "<Figure size 640x480 with 1 Axes>"
      ]
     },
     "metadata": {},
     "output_type": "display_data"
    }
   ],
   "source": [
    "from sklearn.metrics import roc_curve\n",
    "y_pred_proba = classifier.predict_proba(x_test)[:,1]\n",
    "classifier.predict_proba(x_test)\n",
    "fpr, tpr, thresholds = roc_curve(y_test, y_pred_proba)\n",
    "plt.plot(fpr,tpr)\n",
    "plt.ylabel('True Positive Rate')\n",
    "plt.xlabel('False Positve Rate')\n",
    "plt.show()"
   ]
  }
 ],
 "metadata": {
  "kernelspec": {
   "display_name": "Python 3 (ipykernel)",
   "language": "python",
   "name": "python3"
  },
  "language_info": {
   "codemirror_mode": {
    "name": "ipython",
    "version": 3
   },
   "file_extension": ".py",
   "mimetype": "text/x-python",
   "name": "python",
   "nbconvert_exporter": "python",
   "pygments_lexer": "ipython3",
   "version": "3.11.2"
  }
 },
 "nbformat": 4,
 "nbformat_minor": 5
}
